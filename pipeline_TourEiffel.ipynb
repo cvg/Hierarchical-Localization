{
 "cells": [
  {
   "cell_type": "code",
   "execution_count": null,
   "id": "ba3f33db-53bc-4a21-9a40-ade5c90ed167",
   "metadata": {},
   "outputs": [],
   "source": [
    "from pathlib import Path\n",
    "import argparse\n",
    "\n",
    "from hloc.pipelines.Cambridge.utils import (\n",
    "    create_query_list_with_intrinsics, evaluate)\n",
    "from hloc import extract_features, match_features, pairs_from_covisibility\n",
    "from hloc import triangulation, localize_sfm, pairs_from_retrieval, logger"
   ]
  },
  {
   "cell_type": "code",
   "execution_count": null,
   "id": "eafdb45c-1f32-4628-b5e0-d61794bdeba5",
   "metadata": {},
   "outputs": [],
   "source": [
    "num_covis = 20\n",
    "num_loc = 10\n",
    "\n",
    "suffix = 'intra_2015'\n",
    "\n",
    "outputs = Path('outputs/TourEiffel') / suffix\n",
    "results = outputs / 'results.txt'\n",
    "gt_dir = Path('datasets/toureiffel') / suffix\n",
    "images = gt_dir / 'images'\n",
    "\n",
    "ref_sfm_sift = gt_dir / 'model_train'\n",
    "test_list = gt_dir / 'list_query.txt'\n",
    "\n",
    "outputs.mkdir(exist_ok=True, parents=True)\n",
    "ref_sfm = outputs / 'sfm_superpoint+superglue'\n",
    "ref_sfm_scaled = outputs / 'sfm_sift_scaled'\n",
    "query_list = outputs / 'query_list_with_intrinsics.txt'\n",
    "sfm_pairs = outputs / f'pairs-db-covis{num_covis}.txt'\n",
    "loc_pairs = outputs / f'pairs-query-netvlad{num_loc}.txt'\n",
    "\n",
    "feature_conf = {\n",
    "    'output': 'feats-superpoint-n4096-r1024',\n",
    "    'model': {\n",
    "        'name': 'superpoint',\n",
    "        'nms_radius': 3,\n",
    "        'max_keypoints': 4096,\n",
    "    },\n",
    "    'preprocessing': {\n",
    "        'grayscale': True,\n",
    "        'resize_max': 1024,\n",
    "    },\n",
    "}\n",
    "matcher_conf = match_features.confs['superglue']\n",
    "retrieval_conf = extract_features.confs['netvlad']"
   ]
  },
  {
   "cell_type": "code",
   "execution_count": null,
   "id": "1577f084-3427-4021-995d-4735e9566e80",
   "metadata": {},
   "outputs": [],
   "source": [
    "create_query_list_with_intrinsics(gt_dir / 'empty_all', query_list, test_list, ext='.txt')\n",
    "\n",
    "global_descriptors = extract_features.main(retrieval_conf, images, outputs)\n",
    "\n",
    "with open(test_list, 'r') as f:\n",
    "    query_images = {q for q in f.read().rstrip().split('\\n')}\n",
    "pairs_from_retrieval.main(global_descriptors, loc_pairs, num_loc, db_model=ref_sfm_sift, query_list=query_images)\n",
    "\n",
    "features = extract_features.main(feature_conf, images, outputs, as_half=True)\n",
    "\n",
    "pairs_from_covisibility.main(ref_sfm_sift, sfm_pairs, num_matched=num_covis)"
   ]
  },
  {
   "cell_type": "code",
   "execution_count": null,
   "id": "61fdd318-4b01-4df6-b742-a51fd3b4de9b",
   "metadata": {},
   "outputs": [],
   "source": [
    "sfm_matches = match_features.main(matcher_conf, sfm_pairs, feature_conf['output'], outputs)"
   ]
  },
  {
   "cell_type": "code",
   "execution_count": null,
   "id": "71b29c54-751e-4183-bab2-c4f893fd53d3",
   "metadata": {},
   "outputs": [],
   "source": [
    "triangulation.main(\n",
    "    ref_sfm, ref_sfm_sift,\n",
    "    images,\n",
    "    sfm_pairs,\n",
    "    features,\n",
    "    sfm_matches)"
   ]
  },
  {
   "cell_type": "code",
   "execution_count": null,
   "id": "ad9ad2cd-c885-44fa-b418-e5c0a4aad1a9",
   "metadata": {},
   "outputs": [],
   "source": [
    "loc_matches = match_features.main(matcher_conf, loc_pairs, feature_conf['output'], outputs)"
   ]
  },
  {
   "cell_type": "code",
   "execution_count": null,
   "id": "fac93fbe-2150-4f4a-ab3f-708fb8b7c112",
   "metadata": {},
   "outputs": [],
   "source": [
    "localize_sfm.main(\n",
    "    ref_sfm,\n",
    "    query_list,\n",
    "    loc_pairs,\n",
    "    features,\n",
    "    loc_matches,\n",
    "    results,\n",
    "    covisibility_clustering=False,\n",
    "    prepend_camera_name=False)"
   ]
  },
  {
   "cell_type": "code",
   "execution_count": null,
   "id": "4b45ddeb-50da-41a9-90df-3e19dc0fc598",
   "metadata": {},
   "outputs": [],
   "source": [
    "evaluate(\n",
    "    gt_dir / 'empty_all', results,\n",
    "    gt_dir / 'list_query.txt', ext='.txt')"
   ]
  },
  {
   "cell_type": "code",
   "execution_count": null,
   "id": "9cd4fad0-7099-46d7-9bcd-c8b80658abbe",
   "metadata": {},
   "outputs": [],
   "source": []
  }
 ],
 "metadata": {
  "kernelspec": {
   "display_name": "Python 3 (ipykernel)",
   "language": "python",
   "name": "python3"
  },
  "language_info": {
   "codemirror_mode": {
    "name": "ipython",
    "version": 3
   },
   "file_extension": ".py",
   "mimetype": "text/x-python",
   "name": "python",
   "nbconvert_exporter": "python",
   "pygments_lexer": "ipython3",
   "version": "3.8.13"
  }
 },
 "nbformat": 4,
 "nbformat_minor": 5
}
